{
  "nbformat": 4,
  "nbformat_minor": 0,
  "metadata": {
    "colab": {
      "provenance": []
    },
    "kernelspec": {
      "name": "python3",
      "display_name": "Python 3"
    },
    "language_info": {
      "name": "python"
    }
  },
  "cells": [
    {
      "cell_type": "code",
      "execution_count": 1,
      "metadata": {
        "id": "eQNp69w_RPP4"
      },
      "outputs": [],
      "source": [
        "import random"
      ]
    },
    {
      "cell_type": "code",
      "source": [
        "n = 100000\n",
        "sum = 0\n",
        "\n",
        "for i in range (0,n):\n",
        "  st = [0,0]\n",
        "  steps = 0\n",
        "  tem = 0\n",
        "\n",
        "  while True:\n",
        "    steps += 1\n",
        "    dir = random.randint(0,3)\n",
        "    if dir == 0:\n",
        "      st[0] += 1\n",
        "    elif dir == 1:\n",
        "      st[1] += 1\n",
        "    elif dir == 2:\n",
        "      st[0] -= 1\n",
        "    elif dir == 3:\n",
        "      st[1] -= 1\n",
        "    if st[0] == 2 or st[1] == 2 or st[0] == -2 or st[1] == -2:\n",
        "      tem += steps\n",
        "      break\n",
        "\n",
        "  sum += tem\n",
        "\n",
        "mean = sum/n\n",
        "print (sum,mean)"
      ],
      "metadata": {
        "colab": {
          "base_uri": "https://localhost:8080/"
        },
        "id": "fMve3dC6R19h",
        "outputId": "ebb756c9-121d-48b9-dadd-dac00ee2aedb"
      },
      "execution_count": 40,
      "outputs": [
        {
          "output_type": "stream",
          "name": "stdout",
          "text": [
            "449490 4.4949\n"
          ]
        }
      ]
    },
    {
      "cell_type": "code",
      "source": [
        "n = 1000\n",
        "sum = 0\n",
        "\n",
        "for i in range (0,n):\n",
        "  st = [0,0]\n",
        "  steps = 0\n",
        "  tem = 0\n",
        "\n",
        "  while True:\n",
        "    steps += 1\n",
        "    dir = random.randint(0,3)\n",
        "    if dir == 0:\n",
        "      st[0] += 1\n",
        "    elif dir == 1:\n",
        "      st[1] += 1\n",
        "    elif dir == 2:\n",
        "      st[0] -= 1\n",
        "    elif dir == 3:\n",
        "      st[1] -= 1\n",
        "    if st[0] + st[1] == 1:\n",
        "      tem += steps\n",
        "      break\n",
        "\n",
        "  sum += tem\n",
        "\n",
        "mean = sum/n\n",
        "print (sum,mean)"
      ],
      "metadata": {
        "colab": {
          "base_uri": "https://localhost:8080/"
        },
        "id": "feRhh44Zz-G-",
        "outputId": "e27ae369-3c33-4366-899e-f3cfeec38485"
      },
      "execution_count": 64,
      "outputs": [
        {
          "output_type": "stream",
          "name": "stdout",
          "text": [
            "290170 290.17\n"
          ]
        }
      ]
    },
    {
      "cell_type": "code",
      "source": [
        "n = 10000\n",
        "sum = 0\n",
        "\n",
        "for i in range (0,n):\n",
        "  st = [0,0]\n",
        "  steps = 0\n",
        "  tem = 0\n",
        "\n",
        "  while True:\n",
        "    steps += 1\n",
        "    dir = random.randint(0,3)\n",
        "    if dir == 0:\n",
        "      st[0] += 1\n",
        "    elif dir == 1:\n",
        "      st[1] += 1\n",
        "    elif dir == 2:\n",
        "      st[0] -= 1\n",
        "    elif dir == 3:\n",
        "      st[1] -= 1\n",
        "    if (((st[0] - 0.25)/3) ** 2 + ((st[1] - 0.25)/4) ** 2) >= 1:\n",
        "      tem += steps\n",
        "      break\n",
        "\n",
        "  sum += tem\n",
        "\n",
        "mean = sum/n\n",
        "print (sum,mean)"
      ],
      "metadata": {
        "colab": {
          "base_uri": "https://localhost:8080/"
        },
        "id": "UngeV8G2SDXM",
        "outputId": "9df11445-a37c-468f-fe3b-904425d5c6ea"
      },
      "execution_count": 68,
      "outputs": [
        {
          "output_type": "stream",
          "name": "stdout",
          "text": [
            "139095 13.9095\n"
          ]
        }
      ]
    },
    {
      "cell_type": "code",
      "source": [
        ""
      ],
      "metadata": {
        "id": "VupsQYmi0I6E"
      },
      "execution_count": null,
      "outputs": []
    }
  ]
}